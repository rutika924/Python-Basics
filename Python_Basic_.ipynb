{
  "nbformat": 4,
  "nbformat_minor": 0,
  "metadata": {
    "colab": {
      "provenance": []
    },
    "kernelspec": {
      "name": "python3",
      "display_name": "Python 3"
    },
    "language_info": {
      "name": "python"
    }
  },
  "cells": [
    {
      "cell_type": "markdown",
      "source": [
        "1.What is Python, and why is it popular?\n",
        "\n",
        "Ans:-\n",
        "\n",
        "1)Python is a high-level, interpreted programming language knows for its simplicity,versatility.\n",
        "\n",
        "2)It's popular because of its easy syntax,large community support, and extensive libraries for various domains like AI, Data Science, Web Development and Data Analysis.\n",
        "\n"
      ],
      "metadata": {
        "id": "DPQX52pzySwx"
      }
    },
    {
      "cell_type": "markdown",
      "source": [
        "2.What is an interpreter in Python?\n",
        "\n",
        "Ans:-\n",
        "A interperter reads and executes Python code line by line,converting it into the machine code at runtime"
      ],
      "metadata": {
        "id": "NtHw3yaa1Guy"
      }
    },
    {
      "cell_type": "markdown",
      "source": [
        "3.What are pre-defined keywords in Python?\n",
        "\n",
        "Ans:-\n",
        "These are reserved words in python are special meaning and cannot be used as variable names.\n",
        "\n",
        "Example: if,for,while,True,false,None"
      ],
      "metadata": {
        "id": "Tz5XV9K516UM"
      }
    },
    {
      "cell_type": "markdown",
      "source": [
        "4.Can keyword be used as variable names?\n",
        "\n",
        "Ans:No, because Python reserves them for specific syntax rules.\n",
        "\n"
      ],
      "metadata": {
        "id": "7t0QdVto2zwT"
      }
    },
    {
      "cell_type": "markdown",
      "source": [
        "5.What is mutability in Python?\n",
        "\n",
        "Ans:-Mutability means the ability to change the content of an object after creation."
      ],
      "metadata": {
        "id": "_HI_rzUI40HF"
      }
    },
    {
      "cell_type": "markdown",
      "source": [
        "6.Why are lists mutable, but tuples are immutable?\n",
        "\n",
        "Ans:-Lists allow elements modification, while tuples are fixed in size and content after creation.\n"
      ],
      "metadata": {
        "id": "n4aWTIBw5xnS"
      }
    },
    {
      "cell_type": "markdown",
      "source": [
        "7.What is difference between \"==\" and \"is\" operators in Python?\n",
        "\n",
        "Ans:-\"==\" checks if two values are equal.\n",
        "\n",
        "\"is\" checks if two variables points to the same object or memory."
      ],
      "metadata": {
        "id": "B9OFQN7G6Git"
      }
    },
    {
      "cell_type": "markdown",
      "source": [
        "8.What are Logical operators in Python.\n",
        "\n",
        "Ans: Logical operations are used to combine conditional statements:\n",
        "\n",
        "1)and - Returns True if both statements are true          \n",
        "Example:(x<5 and x<10)\n",
        "\n",
        "2)or - Returns True if one of the statements is true            \n",
        "Example:(x<5 or x<4)\n",
        "\n",
        "3)not - Reverse the result, returns False if the results is true     \n",
        "Example:not(x<5 and x<10)\n"
      ],
      "metadata": {
        "id": "kpCXHhn06uXG"
      }
    },
    {
      "cell_type": "markdown",
      "source": [
        "9.What is Type Casting in Python\n",
        "\n",
        "Ans:-Type casting means converting a value form one data type to another. This can be done to make values compatible for operations or to store them in a specific format.\n",
        "\n",
        "Example:\n",
        "\n",
        "int(\"5\")  #Converts string \"5\" to integer 5\n",
        "\n",
        "float(10) #Converts integer 10 to float 10.0"
      ],
      "metadata": {
        "id": "Dld93QMH70o-"
      }
    },
    {
      "cell_type": "markdown",
      "source": [
        "10.What is the difference between implicit and explicit type of casting\n",
        "\n",
        "Ans: Implicit type casting(Type Conversion):   \n",
        "Done automatically by python when it converts a smaller data type into a larger type to avoid data loss\n",
        "\n",
        "Example:                    \n",
        "a=5          \n",
        "\n",
        "b=2.5    \n",
        "\n",
        "c=a+b       \n",
        "\n",
        "print(c)  #Output:7.5\n",
        "\n",
        "Explicit type casting:              \n",
        "\n",
        "Done manually by the programmer using function like int(),float(),str().\n",
        "\n",
        "This is used when you want to force a conversion from one type to another.\n",
        "\n",
        "Example:     \n",
        "a=\"100\"\n",
        "\n",
        "b= int(a)\n",
        "\n",
        "print(b)  #Output:100"
      ],
      "metadata": {
        "id": "wsvX--_PXHCT"
      }
    },
    {
      "cell_type": "markdown",
      "source": [
        "11. WHat is the purpose of conditional statements in python?\n",
        "\n",
        "Ans: Conditional statements allow a program to make decisions and execute certain blocks of code based on whether a given condition is True or False.\n",
        "\n",
        "2)This helps in controlling the flow of a program and making it behave differently in different situations.\n",
        "\n",
        "Example:    \n",
        "age = 18  \n",
        "\n",
        "if age > = 18:  \n",
        "\n",
        "   print(\"You are eligible to vote\")\n",
        "\n",
        "else:\n",
        "\n",
        "   print(\"You are not eligible to vote\")\n"
      ],
      "metadata": {
        "id": "Y3hB9ISBYvp_"
      }
    },
    {
      "cell_type": "markdown",
      "source": [
        "12. How does elif statement work?\n",
        "\n",
        "Ans:elif stands for \"else if\" and is used to check multiple conditions after the first if.\n",
        "\n",
        "2)The program will execute the block of the first condition that is True and skip the rest.\n",
        "\n",
        "Example:\n",
        "\n",
        "marks = 75\n",
        "\n",
        "if marks >= 90:\n",
        "\n",
        "    print(\"Grade A\")\n",
        "\n",
        "elif marks >= 75:\n",
        "\n",
        "    print(\"Grade B\")\n",
        "\n",
        "elif marks >= 60:\n",
        "\n",
        "    print(\"Grade C\")\n",
        "\n",
        "else:\n",
        "\n",
        "    print(\"Grade D\")\n",
        "\n",
        "Only the elif marks >= 75: block runs because that is the first condition that evaluates to True"
      ],
      "metadata": {
        "id": "ZVMCtEepZ3wP"
      }
    },
    {
      "cell_type": "markdown",
      "source": [
        "13. What is the difference between for and while loops.\n",
        "\n",
        "Ans:- 1)for loop:\n",
        "It is used when you know in advance how many times you want to repeat a block of code. It is commonly used for iterating over sequences like lists,strings,ranges   \n",
        "\n",
        "Example:          \n",
        "\n",
        "    for i in range(5):\n",
        "      print(i)\n",
        "\n",
        "2)while loop:It is used when you dont know the exact number of iterations and what to keep running a block of code until a condition becomes \"False\".\n",
        "\n",
        "Example:\n",
        "\n",
        "    count = 0\n",
        "      while count < 5:\n",
        "         print(count)\n",
        "         count +=1"
      ],
      "metadata": {
        "id": "-WB1-W2da1Eq"
      }
    },
    {
      "cell_type": "markdown",
      "source": [
        "14. Describe a scenario where a while loop is more suitable than a for loop.\n",
        "\n",
        "Ans:-A while loop is better when you need the loop to continue runninh while a certain condition is met, without knowing in advance how many times it will run.\n",
        "\n",
        "Example:\n",
        "                   \n",
        "          while True:\n",
        "\n",
        "            text = input(\"Enter something(type 'exit' to quit): \")\n",
        "\n",
        "            if text.lower() == \"exit\":\n",
        "\n",
        "              break"
      ],
      "metadata": {
        "id": "jQuDIinFfxE1"
      }
    },
    {
      "cell_type": "code",
      "source": [
        "#1.Write a Python program to print \"Hello, World!\n",
        "\n",
        "print(\"Hello World!\")\n"
      ],
      "metadata": {
        "colab": {
          "base_uri": "https://localhost:8080/"
        },
        "id": "KxuKgTzbhKAH",
        "outputId": "8c69e431-9b0f-44ce-db0a-d13843535e8d"
      },
      "execution_count": 21,
      "outputs": [
        {
          "output_type": "stream",
          "name": "stdout",
          "text": [
            "Hello World!\n"
          ]
        }
      ]
    },
    {
      "cell_type": "code",
      "source": [
        "#2.Write a Python program that displays your name and age\n",
        "\n",
        "name = \"Vandana\"\n",
        "age = \"23\"\n",
        "print(\"Name :\",name)\n",
        "print(\"Age :\",age)"
      ],
      "metadata": {
        "colab": {
          "base_uri": "https://localhost:8080/"
        },
        "id": "AE_IsJEKhcFd",
        "outputId": "c019b4be-c3ab-4028-fef7-cdfd89039738"
      },
      "execution_count": 22,
      "outputs": [
        {
          "output_type": "stream",
          "name": "stdout",
          "text": [
            "Name : Vandana\n",
            "Age : 23\n"
          ]
        }
      ]
    },
    {
      "cell_type": "code",
      "source": [
        "#3.Write code to print all the pre-defined keywords in Python using the keyword library.\n",
        "\n",
        "import keyword\n",
        "print(keyword.kwlist)"
      ],
      "metadata": {
        "colab": {
          "base_uri": "https://localhost:8080/"
        },
        "id": "-NV2OzGGhixQ",
        "outputId": "f5247af7-2c0e-43c7-cf74-fc1cd7e6a4e5"
      },
      "execution_count": 23,
      "outputs": [
        {
          "output_type": "stream",
          "name": "stdout",
          "text": [
            "['False', 'None', 'True', 'and', 'as', 'assert', 'async', 'await', 'break', 'class', 'continue', 'def', 'del', 'elif', 'else', 'except', 'finally', 'for', 'from', 'global', 'if', 'import', 'in', 'is', 'lambda', 'nonlocal', 'not', 'or', 'pass', 'raise', 'return', 'try', 'while', 'with', 'yield']\n"
          ]
        }
      ]
    },
    {
      "cell_type": "code",
      "source": [
        "#4.Write a program that checks if a given word is a Python keyword.\n",
        "\n",
        "word = input(\"Enter a word :\")\n",
        "if keyword.iskeyword(word):\n",
        "  print(\"Entered word is a Python keyword\")\n",
        "else:\n",
        "  print(\"Entered word is not a Python keyword\")"
      ],
      "metadata": {
        "colab": {
          "base_uri": "https://localhost:8080/"
        },
        "id": "akm4O8DHhqP2",
        "outputId": "5362738f-1e33-40e7-dafc-83c36c8390c8"
      },
      "execution_count": 24,
      "outputs": [
        {
          "output_type": "stream",
          "name": "stdout",
          "text": [
            "Enter a word :Vandana\n",
            "Entered word is not a Python keyword\n"
          ]
        }
      ]
    },
    {
      "cell_type": "code",
      "source": [
        "#5.Create a list and tuple in Python, and demonstrate how attempting to change an element works differently for each.\n",
        "\n",
        "from re import X\n",
        "my_list = [1,2,3,4]\n",
        "print(my_list)\n",
        "my_list[1] = 2.5\n",
        "print(my_list)\n",
        "\n",
        "x = (\"BMW\",\"Ferrari\",\"Audi\")\n",
        "print(x)\n",
        "y = list(x)\n",
        "y[1]=\"Mercedes\"\n",
        "x = tuple(y)\n",
        "print(x)\n",
        "\n"
      ],
      "metadata": {
        "colab": {
          "base_uri": "https://localhost:8080/"
        },
        "id": "szStVVwnhyJj",
        "outputId": "855b8d12-aa28-4f46-bcd0-90e208a12f45"
      },
      "execution_count": 25,
      "outputs": [
        {
          "output_type": "stream",
          "name": "stdout",
          "text": [
            "[1, 2, 3, 4]\n",
            "[1, 2.5, 3, 4]\n",
            "('BMW', 'Ferrari', 'Audi')\n",
            "('BMW', 'Mercedes', 'Audi')\n"
          ]
        }
      ]
    },
    {
      "cell_type": "code",
      "source": [
        "#6.Write a function to demonstrate the behavior of mutable and immutable arguments\n",
        "\n",
        "fruits = ['apple','banana','cherry']\n",
        "fruits[1] = 'mango'\n",
        "print(fruits)\n",
        "\n",
        "name = \"vandana\"\n",
        "name[0] = \"p\"\n",
        "name = \"Bandana\"\n",
        "print(name)"
      ],
      "metadata": {
        "colab": {
          "base_uri": "https://localhost:8080/",
          "height": 228
        },
        "id": "Kaw_Sv8Rh6mi",
        "outputId": "70b8e3ef-8894-4593-a275-77f07b9b2170"
      },
      "execution_count": 27,
      "outputs": [
        {
          "output_type": "stream",
          "name": "stdout",
          "text": [
            "['apple', 'mango', 'cherry']\n"
          ]
        },
        {
          "output_type": "error",
          "ename": "TypeError",
          "evalue": "'str' object does not support item assignment",
          "traceback": [
            "\u001b[0;31m---------------------------------------------------------------------------\u001b[0m",
            "\u001b[0;31mTypeError\u001b[0m                                 Traceback (most recent call last)",
            "\u001b[0;32m/tmp/ipython-input-949608835.py\u001b[0m in \u001b[0;36m<cell line: 0>\u001b[0;34m()\u001b[0m\n\u001b[1;32m      6\u001b[0m \u001b[0;34m\u001b[0m\u001b[0m\n\u001b[1;32m      7\u001b[0m \u001b[0mname\u001b[0m \u001b[0;34m=\u001b[0m \u001b[0;34m\"vandana\"\u001b[0m\u001b[0;34m\u001b[0m\u001b[0;34m\u001b[0m\u001b[0m\n\u001b[0;32m----> 8\u001b[0;31m \u001b[0mname\u001b[0m\u001b[0;34m[\u001b[0m\u001b[0;36m0\u001b[0m\u001b[0;34m]\u001b[0m \u001b[0;34m=\u001b[0m \u001b[0;34m\"p\"\u001b[0m\u001b[0;34m\u001b[0m\u001b[0;34m\u001b[0m\u001b[0m\n\u001b[0m\u001b[1;32m      9\u001b[0m \u001b[0mname\u001b[0m \u001b[0;34m=\u001b[0m \u001b[0;34m\"Bandana\"\u001b[0m\u001b[0;34m\u001b[0m\u001b[0;34m\u001b[0m\u001b[0m\n\u001b[1;32m     10\u001b[0m \u001b[0mprint\u001b[0m\u001b[0;34m(\u001b[0m\u001b[0mname\u001b[0m\u001b[0;34m)\u001b[0m\u001b[0;34m\u001b[0m\u001b[0;34m\u001b[0m\u001b[0m\n",
            "\u001b[0;31mTypeError\u001b[0m: 'str' object does not support item assignment"
          ]
        }
      ]
    },
    {
      "cell_type": "code",
      "source": [
        "#7.Write a program that performs basic arithmetic operations on two user-input numbers.\n",
        "\n",
        "a = 10\n",
        "b = 5\n",
        "print(\"Addition:\",a+b)\n",
        "print(\"Subtraction:\",a-b)\n",
        "print(\"Multiplication:\",a*b)\n",
        "print(\"Division:\",a/b)\n",
        "print(\"Modulus:\",a%b)\n",
        "print(\"Exponentiation:\", a**b)\n"
      ],
      "metadata": {
        "colab": {
          "base_uri": "https://localhost:8080/"
        },
        "id": "iAGzQTKGiS7u",
        "outputId": "acc8ef17-10e5-4640-a89d-15007891a453"
      },
      "execution_count": 28,
      "outputs": [
        {
          "output_type": "stream",
          "name": "stdout",
          "text": [
            "Addition: 15\n",
            "Subtraction: 5\n",
            "Multiplication: 50\n",
            "Division: 2.0\n",
            "Modulus: 0\n",
            "Exponentiation: 100000\n"
          ]
        }
      ]
    },
    {
      "cell_type": "code",
      "source": [
        "#8. Write a program to demonstrate the use of logical operators.\n",
        "\n",
        "a = 5\n",
        "b = 9\n",
        "print(a<3 and b<10)\n",
        "print(a<3 or b<10)\n",
        "print(not(a<3 and b<10))"
      ],
      "metadata": {
        "colab": {
          "base_uri": "https://localhost:8080/"
        },
        "id": "tabC_3_jif8o",
        "outputId": "3e613dd9-1570-4e03-cbd2-2a9361958b7d"
      },
      "execution_count": 29,
      "outputs": [
        {
          "output_type": "stream",
          "name": "stdout",
          "text": [
            "False\n",
            "True\n",
            "True\n"
          ]
        }
      ]
    },
    {
      "cell_type": "code",
      "source": [
        "#9.Write a Python program to convert user input from string to integer, float, and boolean types.\n",
        "\n",
        "a = \"10\"\n",
        "print(type(a))\n",
        "\n",
        "b = int(a)\n",
        "print(b)\n",
        "print(type(b))\n",
        "\n",
        "c = float(a)\n",
        "print(c)\n",
        "print(type(c))\n",
        "\n",
        "d = bool(a)\n",
        "print(d)\n",
        "print(type(d))"
      ],
      "metadata": {
        "colab": {
          "base_uri": "https://localhost:8080/"
        },
        "id": "znM8Q9AgilSk",
        "outputId": "77df2cc6-fc59-47b2-9067-1533b90fdce1"
      },
      "execution_count": 30,
      "outputs": [
        {
          "output_type": "stream",
          "name": "stdout",
          "text": [
            "<class 'str'>\n",
            "10\n",
            "<class 'int'>\n",
            "10.0\n",
            "<class 'float'>\n",
            "True\n",
            "<class 'bool'>\n"
          ]
        }
      ]
    },
    {
      "cell_type": "code",
      "source": [
        "#10. Write code to demonstrate type casting with list elements.\n",
        "\n",
        "my_list = [\"1\",\"2\",\"3\",\"4\"]\n",
        "print(\"Original list:\",my_list)\n",
        "\n",
        "int_list = [int(x) for x in my_list]\n",
        "print(\"As integer:\",int_list)\n",
        "\n",
        "nums_float = [float(x) for x in my_list]\n",
        "print(\"As float:\",nums_float)"
      ],
      "metadata": {
        "colab": {
          "base_uri": "https://localhost:8080/"
        },
        "id": "nePEDj-xisQE",
        "outputId": "54b74e46-242a-4e1c-c227-ab1242030c98"
      },
      "execution_count": 31,
      "outputs": [
        {
          "output_type": "stream",
          "name": "stdout",
          "text": [
            "Original list: ['1', '2', '3', '4']\n",
            "As integer: [1, 2, 3, 4]\n",
            "As float: [1.0, 2.0, 3.0, 4.0]\n"
          ]
        }
      ]
    },
    {
      "cell_type": "code",
      "source": [
        "#11. Write a program that checks if a number is positive, negative, or zero.\n",
        "\n",
        "num = int(input(\"Enter a number:\"))\n",
        "if num>0:\n",
        "  print(\"Entered number is positive\")\n",
        "elif num<0:\n",
        "  print(\"Entered number is negative\")\n",
        "else:\n",
        "  print(\"Entered number is zero\")"
      ],
      "metadata": {
        "colab": {
          "base_uri": "https://localhost:8080/"
        },
        "id": "z1sg8bZ-i0AW",
        "outputId": "315791d5-962a-455c-9d65-ef9e1491e9d8"
      },
      "execution_count": 32,
      "outputs": [
        {
          "output_type": "stream",
          "name": "stdout",
          "text": [
            "Enter a number:7\n",
            "Entered number is positive\n"
          ]
        }
      ]
    },
    {
      "cell_type": "code",
      "source": [
        "#12. Write a for loop to print numbers from 1 to 10\n",
        "\n",
        "for x in range(1,11):\n",
        "  print(x)"
      ],
      "metadata": {
        "colab": {
          "base_uri": "https://localhost:8080/"
        },
        "id": "CtKS_9lDi5sV",
        "outputId": "cea8882d-0eef-433b-a34c-231896879808"
      },
      "execution_count": 33,
      "outputs": [
        {
          "output_type": "stream",
          "name": "stdout",
          "text": [
            "1\n",
            "2\n",
            "3\n",
            "4\n",
            "5\n",
            "6\n",
            "7\n",
            "8\n",
            "9\n",
            "10\n"
          ]
        }
      ]
    },
    {
      "cell_type": "code",
      "source": [
        "#13. Write a Python program to find the sum of all even numbers between 1 and 50.\n",
        "\n",
        "num = 0\n",
        "for x in range(2,51,2):\n",
        "  num +=X\n",
        "print(\"Sum of all even number:\",num)"
      ],
      "metadata": {
        "colab": {
          "base_uri": "https://localhost:8080/"
        },
        "id": "sNVqudA-jASt",
        "outputId": "7d4bba16-6a56-4a1d-df40-0d2392ede511"
      },
      "execution_count": 34,
      "outputs": [
        {
          "output_type": "stream",
          "name": "stdout",
          "text": [
            "Sum of all even number: 1600\n"
          ]
        }
      ]
    },
    {
      "cell_type": "code",
      "source": [
        "#14. Write a program to reverse a string using a while loop.\n",
        "\n",
        "text = input(\"Enter a string: \")\n",
        "reversed_text = \"\"\n",
        "i = len(text) - 1\n",
        "while i>=0:\n",
        "  reversed_text += text[i]\n",
        "  i-=1\n",
        "print(\"Reverse string: \",reversed_text)"
      ],
      "metadata": {
        "colab": {
          "base_uri": "https://localhost:8080/"
        },
        "id": "G5bu_SWajGkv",
        "outputId": "aad1d88d-3bf2-45cb-ba2e-6e93d666ef14"
      },
      "execution_count": 35,
      "outputs": [
        {
          "output_type": "stream",
          "name": "stdout",
          "text": [
            "Enter a string: Vandana\n",
            "Reverse string:  anadnaV\n"
          ]
        }
      ]
    },
    {
      "cell_type": "code",
      "source": [
        "#15. Write a Python program to calculate the factorial of a number provided by the user using a while loop\n",
        "\n",
        "num = int(input(\"Enter a number: \"))\n",
        "fact = 1\n",
        "i = 1\n",
        "while i<=num:\n",
        "  fact*=i\n",
        "  i+=1\n",
        "print(\"Factorial: \",fact)"
      ],
      "metadata": {
        "colab": {
          "base_uri": "https://localhost:8080/"
        },
        "id": "4aSKlVrdjMOZ",
        "outputId": "01937a57-dce7-487a-f21a-e4ce120fd501"
      },
      "execution_count": 36,
      "outputs": [
        {
          "output_type": "stream",
          "name": "stdout",
          "text": [
            "Enter a number: 7\n",
            "Factorial:  5040\n"
          ]
        }
      ]
    }
  ]
}